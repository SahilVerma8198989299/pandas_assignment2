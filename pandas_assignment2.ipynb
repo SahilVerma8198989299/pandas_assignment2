{
 "cells": [
  {
   "cell_type": "markdown",
   "id": "1a7d5bdb-bdef-4c4e-ab5c-2cddb7145278",
   "metadata": {},
   "source": [
    "Q1. List any five functions of the pandas library with execution."
   ]
  },
  {
   "cell_type": "code",
   "execution_count": 3,
   "id": "524b02fa-417e-41cb-a792-2641b9dbfde0",
   "metadata": {},
   "outputs": [
    {
     "name": "stdout",
     "output_type": "stream",
     "text": [
      "   id         name course  marks\n",
      "0   1  sahil verma  btech     96\n",
      "1   2        sneha  btech     94\n",
      "2   3        nitin  btech     89\n",
      "3   4       diksha  btech     79\n",
      "4   5       anjali  btech     69\n"
     ]
    }
   ],
   "source": [
    "import pandas as pd\n",
    "df=pd.DataFrame({ 'id': (1,2,3,4,5,6,7,8,9,10,11), 'name': ('sahil verma','sneha','nitin','diksha','anjali','atul','aditya','ayush','harshit','nitay','karambir'), 'course':['btech','btech','btech','btech','btech','btech','btech','btech','btech','btech','btech'], 'marks':[96,94,89,79,69,90,88,77,83,80,79] })\n",
    "print(df.head())\n"
   ]
  },
  {
   "cell_type": "code",
   "execution_count": 4,
   "id": "e61f3639-c20a-4ed1-998a-ccec2cd8e628",
   "metadata": {},
   "outputs": [
    {
     "name": "stdout",
     "output_type": "stream",
     "text": [
      "   A  B\n",
      "0  1  a\n",
      "1  2  b\n",
      "2  3  c\n"
     ]
    }
   ],
   "source": [
    "import pandas as pd\n",
    "data = {'A': [1, 2, 3, 4, 5], 'B': ['a', 'b', 'c', 'd', 'e']}\n",
    "df = pd.DataFrame(data)\n",
    "print(df.head(3))\n"
   ]
  },
  {
   "cell_type": "code",
   "execution_count": 5,
   "id": "da6360dd-5c72-4897-ab80-ab78e640f425",
   "metadata": {},
   "outputs": [
    {
     "name": "stdout",
     "output_type": "stream",
     "text": [
      "         Score\n",
      "Name          \n",
      "Alice     88.5\n",
      "Bob       92.5\n",
      "Charlie   78.0\n"
     ]
    }
   ],
   "source": [
    "import pandas as pd\n",
    "data = {'Name': ['Alice', 'Bob', 'Charlie', 'Alice', 'Bob'],\n",
    "        'Score': [85, 90, 78, 92, 95]}\n",
    "df = pd.DataFrame(data)\n",
    "grouped = df.groupby('Name').mean()\n",
    "print(grouped)\n"
   ]
  },
  {
   "cell_type": "code",
   "execution_count": 6,
   "id": "1120b176-8730-4576-ad93-c1f1c75fc0c5",
   "metadata": {},
   "outputs": [
    {
     "name": "stdout",
     "output_type": "stream",
     "text": [
      "  key  value_x  value_y\n",
      "0   B        2        5\n",
      "1   D        4        6\n"
     ]
    }
   ],
   "source": [
    "import pandas as pd\n",
    "df1 = pd.DataFrame({'key': ['A', 'B', 'C', 'D'], 'value': [1, 2, 3, 4]})\n",
    "df2 = pd.DataFrame({'key': ['B', 'D', 'E', 'F'], 'value': [5, 6, 7, 8]})\n",
    "merged = pd.merge(df1, df2, on='key')\n",
    "print(merged)\n"
   ]
  },
  {
   "cell_type": "code",
   "execution_count": 7,
   "id": "8d4fa58c-ae0a-4c2c-8c69-91d356698277",
   "metadata": {},
   "outputs": [
    {
     "name": "stdout",
     "output_type": "stream",
     "text": [
      "B    one  two\n",
      "A            \n",
      "bar   11    4\n",
      "foo    3    3\n"
     ]
    }
   ],
   "source": [
    "import pandas as pd\n",
    "data = {'A': ['foo', 'foo', 'foo', 'bar', 'bar', 'bar'],\n",
    "        'B': ['one', 'one', 'two', 'two', 'one', 'one'],\n",
    "        'C': [1, 2, 3, 4, 5, 6]}\n",
    "df = pd.DataFrame(data)\n",
    "pivot_table = df.pivot_table(values='C', index='A', columns='B', aggfunc='sum')\n",
    "print(pivot_table)\n"
   ]
  },
  {
   "cell_type": "markdown",
   "id": "59433693-4537-4338-b5f4-f1b507f8adc6",
   "metadata": {},
   "source": [
    "Q2. Given a Pandas DataFrame df with columns 'A', 'B', and 'C', write a Python function to re-index the\n",
    "DataFrame with a new index that starts from 1 and increments by 2 for each row."
   ]
  },
  {
   "cell_type": "code",
   "execution_count": 9,
   "id": "2031eab8-e8a0-4c46-9483-df19a78228d6",
   "metadata": {},
   "outputs": [
    {
     "data": {
      "text/html": [
       "<div>\n",
       "<style scoped>\n",
       "    .dataframe tbody tr th:only-of-type {\n",
       "        vertical-align: middle;\n",
       "    }\n",
       "\n",
       "    .dataframe tbody tr th {\n",
       "        vertical-align: top;\n",
       "    }\n",
       "\n",
       "    .dataframe thead th {\n",
       "        text-align: right;\n",
       "    }\n",
       "</style>\n",
       "<table border=\"1\" class=\"dataframe\">\n",
       "  <thead>\n",
       "    <tr style=\"text-align: right;\">\n",
       "      <th></th>\n",
       "      <th>A</th>\n",
       "      <th>B</th>\n",
       "      <th>C</th>\n",
       "    </tr>\n",
       "  </thead>\n",
       "  <tbody>\n",
       "    <tr>\n",
       "      <th>0</th>\n",
       "      <td>1</td>\n",
       "      <td>4</td>\n",
       "      <td>7</td>\n",
       "    </tr>\n",
       "    <tr>\n",
       "      <th>1</th>\n",
       "      <td>2</td>\n",
       "      <td>5</td>\n",
       "      <td>8</td>\n",
       "    </tr>\n",
       "    <tr>\n",
       "      <th>2</th>\n",
       "      <td>3</td>\n",
       "      <td>6</td>\n",
       "      <td>9</td>\n",
       "    </tr>\n",
       "  </tbody>\n",
       "</table>\n",
       "</div>"
      ],
      "text/plain": [
       "   A  B  C\n",
       "0  1  4  7\n",
       "1  2  5  8\n",
       "2  3  6  9"
      ]
     },
     "execution_count": 9,
     "metadata": {},
     "output_type": "execute_result"
    }
   ],
   "source": [
    "df=pd.DataFrame({'A':[1,2,3],'B':[4,5,6],'C':[7,8,9]})\n",
    "df\n"
   ]
  },
  {
   "cell_type": "code",
   "execution_count": 11,
   "id": "f7301371-3159-4294-a705-5fad8b47fa7a",
   "metadata": {},
   "outputs": [
    {
     "name": "stdout",
     "output_type": "stream",
     "text": [
      "     A    B    C\n",
      "1  2.0  5.0  8.0\n",
      "3  NaN  NaN  NaN\n",
      "4  NaN  NaN  NaN\n"
     ]
    }
   ],
   "source": [
    "re_index=[1,3,4]\n",
    "print(df.reindex(re_index))"
   ]
  },
  {
   "cell_type": "markdown",
   "id": "64e2b9f8-7106-45a2-8718-e125bf4e9fc8",
   "metadata": {},
   "source": [
    "Q3. You have a Pandas DataFrame df with a column named 'Values'. Write a Python function that\n",
    "iterates over the DataFrame and calculates the sum of the first three values in the 'Values' column. The\n",
    "function should print the sum to the console."
   ]
  },
  {
   "cell_type": "code",
   "execution_count": 41,
   "id": "b8be6fb9-77dc-4e92-ae43-db00ecb0d8d3",
   "metadata": {},
   "outputs": [
    {
     "name": "stdout",
     "output_type": "stream",
     "text": [
      "   value\n",
      "0     10\n",
      "1     20\n",
      "2     30\n",
      "3     40\n",
      "4     50\n"
     ]
    },
    {
     "data": {
      "text/plain": [
       "value    60\n",
       "dtype: int64"
      ]
     },
     "execution_count": 41,
     "metadata": {},
     "output_type": "execute_result"
    }
   ],
   "source": [
    "df=pd.DataFrame({'value':[10,20,30,40,50]})\n",
    "print(df)\n",
    "df.loc[0:2].sum(axis=0)"
   ]
  },
  {
   "cell_type": "markdown",
   "id": "68dad2e5-7a13-4e81-9a41-5c1d7f5cd46f",
   "metadata": {},
   "source": [
    "Q4. Given a Pandas DataFrame df with a column 'Text', write a Python function to create a new column\n",
    "'Word_Count' that contains the number of words in each row of the 'Text' column."
   ]
  },
  {
   "cell_type": "code",
   "execution_count": 44,
   "id": "86b0e632-0384-4836-b2a6-53617641fd12",
   "metadata": {},
   "outputs": [
    {
     "name": "stdout",
     "output_type": "stream",
     "text": [
      "   text\n",
      "0    10\n",
      "1    20\n",
      "2    30\n",
      "3    40\n",
      "4    50\n",
      "   text Word_Count\n",
      "0    10          a\n",
      "1    20          b\n",
      "2    30          c\n",
      "3    40          d\n",
      "4    50          e\n"
     ]
    }
   ],
   "source": [
    "df=pd.DataFrame({'text':[10,20,30,40,50]})\n",
    "print(df)\n",
    "df['Word_Count']=['a','b','c','d','e']\n",
    "print(df)"
   ]
  },
  {
   "cell_type": "markdown",
   "id": "2683ba0c-de56-4cac-83d1-25ccd9ca1d8e",
   "metadata": {},
   "source": [
    "Q5. How are DataFrame.size() and DataFrame.shape() different?"
   ]
  },
  {
   "cell_type": "markdown",
   "id": "b1aef0a9-177b-45ef-8b31-27d96882cf65",
   "metadata": {},
   "source": [
    "DataFrame.size(): This method returns the number of elements in the DataFrame, which is equal to the number of rows multiplied by the number of columns. It provides the total size of the DataFrame."
   ]
  },
  {
   "cell_type": "markdown",
   "id": "479ff86a-8fec-492e-bac7-178eba8e98b0",
   "metadata": {},
   "source": [
    "DataFrame.shape(): This method returns a tuple representing the dimensions of the DataFrame. It returns a tuple in the format (number_of_rows, number_of_columns). It provides the shape of the DataFrame as a tuple, where the first element is the number of rows and the second element is the number of columns."
   ]
  },
  {
   "cell_type": "code",
   "execution_count": 49,
   "id": "f740ce65-567d-4b19-9f32-a2a726891745",
   "metadata": {},
   "outputs": [
    {
     "name": "stdout",
     "output_type": "stream",
     "text": [
      "10\n",
      "(5, 2)\n"
     ]
    }
   ],
   "source": [
    "print(df.size)\n",
    "print(df.shape)"
   ]
  },
  {
   "cell_type": "markdown",
   "id": "0ca52776-098a-4496-8139-906fc2ca57c2",
   "metadata": {},
   "source": [
    "Q6. Which function of pandas do we use to read an excel file?"
   ]
  },
  {
   "cell_type": "raw",
   "id": "b6d9fccb-4d2d-4428-912c-3170a7ab6918",
   "metadata": {},
   "source": [
    "#syntax to read excel file\n",
    "import pandas as pd\n",
    "df = pd.read_excel('example.xlsx')\n",
    "print(df)"
   ]
  },
  {
   "cell_type": "markdown",
   "id": "96d11f01-f6d9-4a99-a822-18ce550dce88",
   "metadata": {},
   "source": [
    "Q7. You have a Pandas DataFrame df that contains a column named 'Email' that contains email\n",
    "addresses in the format 'username@domain.com'. Write a Python function that creates a new column\n",
    "'Username' in df that contains only the username part of each email address."
   ]
  },
  {
   "cell_type": "raw",
   "id": "3cb2c544-84c0-4b7d-bacf-8755b74a510b",
   "metadata": {},
   "source": [
    "import pandas as pd\n",
    "\n",
    "def extract_username(df):\n",
    "    # Split the 'Email' column on '@' and access the first part (username)\n",
    "    df['Username'] = df['Email'].str.split('@').str[0]\n",
    "    \n",
    "    return df\n",
    "\n",
    "# Example DataFrame\n",
    "data = {'Email': ['john.doe@example.com', 'jane.smith@example.com']}\n",
    "df = pd.DataFrame(data)\n",
    "\n",
    "# Call the function with the DataFrame\n",
    "df = extract_username(df)\n",
    "\n",
    "# Print the updated DataFrame\n",
    "print(df)\n"
   ]
  },
  {
   "cell_type": "raw",
   "id": "d7236c86-c2ca-4e1d-ba12-182c20d1d0ec",
   "metadata": {},
   "source": [
    "Q8. You have a Pandas DataFrame df with columns 'A', 'B', and 'C'. Write a Python function that selects\n",
    "all rows where the value in column 'A' is greater than 5 and the value in column 'B' is less than 10. The\n",
    "function should return a new DataFrame that contains only the selected rows.\n",
    "For example, if df contains the following values:\n",
    "A B C\n",
    "0 3 5 1\n",
    "1 8 2 7\n",
    "2 6 9 4\n",
    "3 2 3 5\n",
    "4 9 1 2\n",
    "Your function should select the following rows: A B C\n",
    "1 8 2 7\n",
    "4 9 1 2\n",
    "The function should return a new DataFrame that contains only the selected rows."
   ]
  },
  {
   "cell_type": "code",
   "execution_count": 82,
   "id": "62dc1186-fe98-413c-904a-9600f2c4190c",
   "metadata": {},
   "outputs": [
    {
     "name": "stdout",
     "output_type": "stream",
     "text": [
      "   A  B  C\n",
      "1  8  2  7\n",
      "4  9  1  2\n"
     ]
    }
   ],
   "source": [
    "df=pd.DataFrame({'A':[3,8,6,2,9],'B':[5,2,10,3,1],'C':[1,7,4,5,2]})\n",
    "def selected_rows():\n",
    "    new_df=df[(df['B']<10) & (df['A']>5)]\n",
    "    new_dataframe=pd.DataFrame(new_df)\n",
    "    print(new_dataframe)\n",
    "\n",
    "selected_rows()\n"
   ]
  },
  {
   "cell_type": "markdown",
   "id": "84bde4b1-97cc-4e90-bbe9-7d19b1e190d2",
   "metadata": {},
   "source": [
    "Q9. Given a Pandas DataFrame df with a column 'Values', write a Python function to calculate the mean,\n",
    "median, and standard deviation of the values in the 'Values' column."
   ]
  },
  {
   "cell_type": "code",
   "execution_count": 87,
   "id": "b2970c55-4baa-42f1-b94a-259e18ca121d",
   "metadata": {},
   "outputs": [
    {
     "name": "stdout",
     "output_type": "stream",
     "text": [
      "Mean: 3.0\n",
      "Median: 3.0\n",
      "Standard Deviation: 1.5811388300841898\n"
     ]
    }
   ],
   "source": [
    "import pandas as pd\n",
    "def calculate_statistics():\n",
    "    data = {'Values': [1, 2, 3, 4, 5]}\n",
    "    df = pd.DataFrame(data)\n",
    "    # Calculate the mean, median, and standard deviation of the 'Values' column\n",
    "    mean_value = df['Values'].mean()\n",
    "    median_value = df['Values'].median()\n",
    "    std_value = df['Values'].std()\n",
    "    print(\"Mean:\", mean_value)\n",
    "    print(\"Median:\", median_value)\n",
    "    print(\"Standard Deviation:\", std_value)\n",
    "\n",
    "# Call the function with the DataFrame\n",
    "calculate_statistics()"
   ]
  },
  {
   "cell_type": "markdown",
   "id": "e87ef7bf-5ca3-44a4-be5d-ca6cf1e2e87d",
   "metadata": {},
   "source": [
    "Q10. Given a Pandas DataFrame df with a column 'Sales' and a column 'Date', write a Python function to\n",
    "create a new column 'MovingAverage' that contains the moving average of the sales for the past 7 days\n",
    "for each row in the DataFrame. The moving average should be calculated using a window of size 7 and\n",
    "should include the current day."
   ]
  },
  {
   "cell_type": "code",
   "execution_count": 88,
   "id": "13ae0eef-2fda-4257-b84c-9c423463070a",
   "metadata": {},
   "outputs": [
    {
     "name": "stdout",
     "output_type": "stream",
     "text": [
      "        Date  Sales  MovingAverage\n",
      "0 2022-01-01    100          100.0\n",
      "1 2022-01-02    150          125.0\n",
      "2 2022-01-03    200          150.0\n",
      "3 2022-01-04    250          175.0\n",
      "4 2022-01-05    300          200.0\n",
      "5 2022-01-06    350          225.0\n",
      "6 2022-01-07    400          250.0\n",
      "7 2022-01-08    450          300.0\n",
      "8 2022-01-09    500          350.0\n",
      "9 2022-01-10    550          400.0\n"
     ]
    }
   ],
   "source": [
    "import pandas as pd\n",
    "\n",
    "def calculate_moving_average(df):\n",
    "    # Sort the DataFrame by date\n",
    "    df = df.sort_values(by='Date')\n",
    "    \n",
    "    # Calculate the moving average using a window of size 7\n",
    "    df['MovingAverage'] = df['Sales'].rolling(window=7, min_periods=1).mean()\n",
    "    \n",
    "    return df\n",
    "\n",
    "# Example DataFrame\n",
    "data = {'Date': pd.date_range(start='2022-01-01', periods=10),\n",
    "        'Sales': [100, 150, 200, 250, 300, 350, 400, 450, 500, 550]}\n",
    "df = pd.DataFrame(data)\n",
    "\n",
    "# Call the function with the DataFrame\n",
    "df = calculate_moving_average(df)\n",
    "\n",
    "# Print the updated DataFrame\n",
    "print(df)\n",
    "\n"
   ]
  },
  {
   "cell_type": "raw",
   "id": "f6ddd334-104f-45aa-a9b2-c1d6a2df9c6e",
   "metadata": {},
   "source": [
    "Q11. You have a Pandas DataFrame df with a column 'Date'. Write a Python function that creates a new\n",
    "column 'Weekday' in the DataFrame. The 'Weekday' column should contain the weekday name (e.g.\n",
    "Monday, Tuesday) corresponding to each date in the 'Date' column.\n",
    "For example, if df contains the following values:\n",
    "Date\n",
    "0 2023-01-01\n",
    "1 2023-01-02\n",
    "2 2023-01-03\n",
    "3 2023-01-04\n",
    "4 2023-01-05\n",
    "Your function should create the following DataFrame:\n",
    "\n",
    "Date Weekday\n",
    "0 2023-01-01 Sunday\n",
    "1 2023-01-02 Monday\n",
    "2 2023-01-03 Tuesday\n",
    "3 2023-01-04 Wednesday\n",
    "4 2023-01-05 Thursday\n",
    "The function should return the modified DataFrame."
   ]
  },
  {
   "cell_type": "code",
   "execution_count": 89,
   "id": "cacd3ed8-c3f3-49e8-b0c8-84f0b1ab5d53",
   "metadata": {},
   "outputs": [
    {
     "name": "stdout",
     "output_type": "stream",
     "text": [
      "        Date    Weekday\n",
      "0 2023-01-01     Sunday\n",
      "1 2023-01-02     Monday\n",
      "2 2023-01-03    Tuesday\n",
      "3 2023-01-04  Wednesday\n",
      "4 2023-01-05   Thursday\n"
     ]
    }
   ],
   "source": [
    "import pandas as pd\n",
    "\n",
    "def add_weekday_column(df):\n",
    "    # Convert the 'Date' column to datetime format\n",
    "    df['Date'] = pd.to_datetime(df['Date'])\n",
    "    \n",
    "    # Add a new column 'Weekday' with the weekday name\n",
    "    df['Weekday'] = df['Date'].dt.day_name()\n",
    "    \n",
    "    return df\n",
    "\n",
    "# Example DataFrame\n",
    "data = {'Date': ['2023-01-01', '2023-01-02', '2023-01-03', '2023-01-04', '2023-01-05']}\n",
    "df = pd.DataFrame(data)\n",
    "\n",
    "# Call the function with the DataFrame\n",
    "df = add_weekday_column(df)\n",
    "\n",
    "# Print the updated DataFrame\n",
    "print(df)\n"
   ]
  },
  {
   "cell_type": "markdown",
   "id": "b9b30b1d-9b69-4455-a2fe-91477d10b52d",
   "metadata": {},
   "source": [
    "Q12. Given a Pandas DataFrame df with a column 'Date' that contains timestamps, write a Python\n",
    "function to select all rows where the date is between '2023-01-01' and '2023-01-31'."
   ]
  },
  {
   "cell_type": "raw",
   "id": "c71c2059-38a5-4031-a47e-f31523bea37b",
   "metadata": {},
   "source": [
    "import pandas as pd\n",
    "\n",
    "def select_rows_between_dates(df):\n",
    "    # Convert the 'Date' column to datetime format\n",
    "    df['Date'] = pd.to_datetime(df['Date'])\n",
    "    \n",
    "    # Select rows where the date is between '2023-01-01' and '2023-01-31'\n",
    "    selected_rows = df[(df['Date'] >= '2023-01-01') & (df['Date'] <= '2023-01-31')]\n",
    "    \n",
    "    return selected_rows\n",
    "\n",
    "# Example DataFrame\n",
    "data = {'Date': ['2023-01-01', '2023-01-15', '2023-02-01', '2023-02-15']}\n",
    "df = pd.DataFrame(data)\n",
    "\n",
    "# Call the function with the DataFrame\n",
    "selected_df = select_rows_between_dates(df)\n",
    "\n",
    "# Print the selected DataFrame\n",
    "print(selected_df)\n"
   ]
  },
  {
   "cell_type": "markdown",
   "id": "27ccfa62-37ce-4b92-b61c-3ec258aef984",
   "metadata": {},
   "source": [
    "Q13. To use the basic functions of pandas, what is the first and foremost necessary library that needs to\n",
    "be imported?"
   ]
  },
  {
   "cell_type": "markdown",
   "id": "2f1592ec-d254-4aab-91ed-5e23fb3add38",
   "metadata": {},
   "source": [
    "To use the basic functions of pandas, you need to import the pandas library itself. This is typically done with the following import statement:"
   ]
  },
  {
   "cell_type": "code",
   "execution_count": 91,
   "id": "61efe7ca-bfde-4b98-b09b-d4ba4f5a5310",
   "metadata": {},
   "outputs": [],
   "source": [
    "import pandas as pd"
   ]
  },
  {
   "cell_type": "code",
   "execution_count": null,
   "id": "0c6ce41f-c864-4741-b89a-1ec5c4e6ae20",
   "metadata": {},
   "outputs": [],
   "source": []
  }
 ],
 "metadata": {
  "kernelspec": {
   "display_name": "Python 3 (ipykernel)",
   "language": "python",
   "name": "python3"
  },
  "language_info": {
   "codemirror_mode": {
    "name": "ipython",
    "version": 3
   },
   "file_extension": ".py",
   "mimetype": "text/x-python",
   "name": "python",
   "nbconvert_exporter": "python",
   "pygments_lexer": "ipython3",
   "version": "3.11.7"
  }
 },
 "nbformat": 4,
 "nbformat_minor": 5
}
